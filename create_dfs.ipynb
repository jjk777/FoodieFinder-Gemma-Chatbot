{
 "cells": [
  {
   "cell_type": "code",
   "execution_count": 2,
   "metadata": {},
   "outputs": [],
   "source": [
    "import pandas as pd"
   ]
  },
  {
   "cell_type": "code",
   "execution_count": 19,
   "metadata": {},
   "outputs": [
    {
     "name": "stdout",
     "output_type": "stream",
     "text": [
      "(505, 5)\n"
     ]
    }
   ],
   "source": [
    "summarized_review = pd.read_csv(\"output_kaggleXnotebook/to create separate dataframes/selected_reviews.csv\") # this is output of version9 foodie finder\n",
    "print(summarized_review.shape)"
   ]
  },
  {
   "cell_type": "code",
   "execution_count": 20,
   "metadata": {},
   "outputs": [
    {
     "name": "stdout",
     "output_type": "stream",
     "text": [
      "Number of DataFrames created: 5\n",
      "DataFrame 1 shape: (115, 5)\n",
      "DataFrame 2 shape: (115, 5)\n",
      "DataFrame 3 shape: (115, 5)\n",
      "DataFrame 4 shape: (115, 5)\n",
      "DataFrame 5 shape: (45, 5)\n"
     ]
    }
   ],
   "source": [
    "# Split the DataFrame into smaller DataFrames with approximately 115 rows each\n",
    "dfs = [summarized_review[i:i + 115] for i in range(0, len(summarized_review), 115)]\n",
    "\n",
    "# Check the number of DataFrames created\n",
    "number_of_dfs = len(dfs)\n",
    "print(f\"Number of DataFrames created: {number_of_dfs}\")\n",
    "\n",
    "# Optionally, print the shape of each DataFrame\n",
    "for index, smaller_df in enumerate(dfs):\n",
    "    print(f\"DataFrame {index + 1} shape: {smaller_df.shape}\")"
   ]
  },
  {
   "cell_type": "code",
   "execution_count": 21,
   "metadata": {},
   "outputs": [
    {
     "data": {
      "text/html": [
       "<div>\n",
       "<style scoped>\n",
       "    .dataframe tbody tr th:only-of-type {\n",
       "        vertical-align: middle;\n",
       "    }\n",
       "\n",
       "    .dataframe tbody tr th {\n",
       "        vertical-align: top;\n",
       "    }\n",
       "\n",
       "    .dataframe thead th {\n",
       "        text-align: right;\n",
       "    }\n",
       "</style>\n",
       "<table border=\"1\" class=\"dataframe\">\n",
       "  <thead>\n",
       "    <tr style=\"text-align: right;\">\n",
       "      <th></th>\n",
       "      <th>restaurant_name</th>\n",
       "      <th>restaurant_rating</th>\n",
       "      <th>individual_rating</th>\n",
       "      <th>comments</th>\n",
       "      <th>Location</th>\n",
       "    </tr>\n",
       "  </thead>\n",
       "  <tbody>\n",
       "    <tr>\n",
       "      <th>0</th>\n",
       "      <td>Bistro Sakaba REPOS</td>\n",
       "      <td>3.51Very good65reviews</td>\n",
       "      <td>3.9Food and taste-Service-Atmosphere-Cost perf...</td>\n",
       "      <td>This is my second visit. This time I visited w...</td>\n",
       "      <td>Hokkaido</td>\n",
       "    </tr>\n",
       "    <tr>\n",
       "      <th>1</th>\n",
       "      <td>Bistro Sakaba REPOS</td>\n",
       "      <td>3.51Very good65reviews</td>\n",
       "      <td>4.0Food and taste4.0Service3.5Atmosphere3.5Cos...</td>\n",
       "      <td>I happened to discover this place when I was l...</td>\n",
       "      <td>Hokkaido</td>\n",
       "    </tr>\n",
       "  </tbody>\n",
       "</table>\n",
       "</div>"
      ],
      "text/plain": [
       "       restaurant_name       restaurant_rating  \\\n",
       "0  Bistro Sakaba REPOS  3.51Very good65reviews   \n",
       "1  Bistro Sakaba REPOS  3.51Very good65reviews   \n",
       "\n",
       "                                   individual_rating  \\\n",
       "0  3.9Food and taste-Service-Atmosphere-Cost perf...   \n",
       "1  4.0Food and taste4.0Service3.5Atmosphere3.5Cos...   \n",
       "\n",
       "                                            comments  Location  \n",
       "0  This is my second visit. This time I visited w...  Hokkaido  \n",
       "1  I happened to discover this place when I was l...  Hokkaido  "
      ]
     },
     "execution_count": 21,
     "metadata": {},
     "output_type": "execute_result"
    }
   ],
   "source": [
    "dfs[0].head(2)"
   ]
  },
  {
   "cell_type": "code",
   "execution_count": 22,
   "metadata": {},
   "outputs": [
    {
     "data": {
      "text/html": [
       "<div>\n",
       "<style scoped>\n",
       "    .dataframe tbody tr th:only-of-type {\n",
       "        vertical-align: middle;\n",
       "    }\n",
       "\n",
       "    .dataframe tbody tr th {\n",
       "        vertical-align: top;\n",
       "    }\n",
       "\n",
       "    .dataframe thead th {\n",
       "        text-align: right;\n",
       "    }\n",
       "</style>\n",
       "<table border=\"1\" class=\"dataframe\">\n",
       "  <thead>\n",
       "    <tr style=\"text-align: right;\">\n",
       "      <th></th>\n",
       "      <th>restaurant_name</th>\n",
       "      <th>restaurant_rating</th>\n",
       "      <th>individual_rating</th>\n",
       "      <th>comments</th>\n",
       "      <th>Location</th>\n",
       "    </tr>\n",
       "  </thead>\n",
       "  <tbody>\n",
       "    <tr>\n",
       "      <th>115</th>\n",
       "      <td>Kyoto Sushi Momonoki</td>\n",
       "      <td>3.53Very good118reviews</td>\n",
       "      <td>3.8Food and taste-Service-Atmosphere-Cost perf...</td>\n",
       "      <td>It's a great course to have Sushi for 6000 yen...</td>\n",
       "      <td>Kyoto</td>\n",
       "    </tr>\n",
       "    <tr>\n",
       "      <th>116</th>\n",
       "      <td>Kyoto Sushi Momonoki</td>\n",
       "      <td>3.53Very good118reviews</td>\n",
       "      <td>3.3Food and taste-Service-Atmosphere-Cost perf...</td>\n",
       "      <td>While Kyoto Station buildings tend to be crowd...</td>\n",
       "      <td>Kyoto</td>\n",
       "    </tr>\n",
       "  </tbody>\n",
       "</table>\n",
       "</div>"
      ],
      "text/plain": [
       "          restaurant_name        restaurant_rating  \\\n",
       "115  Kyoto Sushi Momonoki  3.53Very good118reviews   \n",
       "116  Kyoto Sushi Momonoki  3.53Very good118reviews   \n",
       "\n",
       "                                     individual_rating  \\\n",
       "115  3.8Food and taste-Service-Atmosphere-Cost perf...   \n",
       "116  3.3Food and taste-Service-Atmosphere-Cost perf...   \n",
       "\n",
       "                                              comments Location  \n",
       "115  It's a great course to have Sushi for 6000 yen...    Kyoto  \n",
       "116  While Kyoto Station buildings tend to be crowd...    Kyoto  "
      ]
     },
     "execution_count": 22,
     "metadata": {},
     "output_type": "execute_result"
    }
   ],
   "source": [
    "dfs[1].head(2)"
   ]
  },
  {
   "cell_type": "code",
   "execution_count": 23,
   "metadata": {},
   "outputs": [
    {
     "data": {
      "text/html": [
       "<div>\n",
       "<style scoped>\n",
       "    .dataframe tbody tr th:only-of-type {\n",
       "        vertical-align: middle;\n",
       "    }\n",
       "\n",
       "    .dataframe tbody tr th {\n",
       "        vertical-align: top;\n",
       "    }\n",
       "\n",
       "    .dataframe thead th {\n",
       "        text-align: right;\n",
       "    }\n",
       "</style>\n",
       "<table border=\"1\" class=\"dataframe\">\n",
       "  <thead>\n",
       "    <tr style=\"text-align: right;\">\n",
       "      <th></th>\n",
       "      <th>restaurant_name</th>\n",
       "      <th>restaurant_rating</th>\n",
       "      <th>individual_rating</th>\n",
       "      <th>comments</th>\n",
       "      <th>Location</th>\n",
       "    </tr>\n",
       "  </thead>\n",
       "  <tbody>\n",
       "    <tr>\n",
       "      <th>230</th>\n",
       "      <td>Sushi Akazu</td>\n",
       "      <td>3.76Very good301reviews</td>\n",
       "      <td>3.7Food and taste3.7Service3.7Atmosphere3.7Cos...</td>\n",
       "      <td>I ordered the selection course.The time I visi...</td>\n",
       "      <td>Osaka</td>\n",
       "    </tr>\n",
       "    <tr>\n",
       "      <th>231</th>\n",
       "      <td>Sushi Akazu</td>\n",
       "      <td>3.76Very good301reviews</td>\n",
       "      <td>3.8Food and taste3.8Service3.5Atmosphere4.0Cos...</td>\n",
       "      <td>There were only 8 seats at the counter. The su...</td>\n",
       "      <td>Osaka</td>\n",
       "    </tr>\n",
       "  </tbody>\n",
       "</table>\n",
       "</div>"
      ],
      "text/plain": [
       "    restaurant_name        restaurant_rating  \\\n",
       "230     Sushi Akazu  3.76Very good301reviews   \n",
       "231     Sushi Akazu  3.76Very good301reviews   \n",
       "\n",
       "                                     individual_rating  \\\n",
       "230  3.7Food and taste3.7Service3.7Atmosphere3.7Cos...   \n",
       "231  3.8Food and taste3.8Service3.5Atmosphere4.0Cos...   \n",
       "\n",
       "                                              comments Location  \n",
       "230  I ordered the selection course.The time I visi...    Osaka  \n",
       "231  There were only 8 seats at the counter. The su...    Osaka  "
      ]
     },
     "execution_count": 23,
     "metadata": {},
     "output_type": "execute_result"
    }
   ],
   "source": [
    "dfs[2].head(2)"
   ]
  },
  {
   "cell_type": "code",
   "execution_count": 24,
   "metadata": {},
   "outputs": [
    {
     "data": {
      "text/html": [
       "<div>\n",
       "<style scoped>\n",
       "    .dataframe tbody tr th:only-of-type {\n",
       "        vertical-align: middle;\n",
       "    }\n",
       "\n",
       "    .dataframe tbody tr th {\n",
       "        vertical-align: top;\n",
       "    }\n",
       "\n",
       "    .dataframe thead th {\n",
       "        text-align: right;\n",
       "    }\n",
       "</style>\n",
       "<table border=\"1\" class=\"dataframe\">\n",
       "  <thead>\n",
       "    <tr style=\"text-align: right;\">\n",
       "      <th></th>\n",
       "      <th>restaurant_name</th>\n",
       "      <th>restaurant_rating</th>\n",
       "      <th>individual_rating</th>\n",
       "      <th>comments</th>\n",
       "      <th>Location</th>\n",
       "    </tr>\n",
       "  </thead>\n",
       "  <tbody>\n",
       "    <tr>\n",
       "      <th>345</th>\n",
       "      <td>Ginza Chikamitsu</td>\n",
       "      <td>3.60Very good291reviews</td>\n",
       "      <td>4.5Food and taste-Service-Atmosphere-Cost perf...</td>\n",
       "      <td>The fillet was very soft and I knew it was del...</td>\n",
       "      <td>Tokyo</td>\n",
       "    </tr>\n",
       "    <tr>\n",
       "      <th>346</th>\n",
       "      <td>Ginza Chikamitsu</td>\n",
       "      <td>3.60Very good291reviews</td>\n",
       "      <td>4.5Food and taste-Service-Atmosphere-Cost perf...</td>\n",
       "      <td>以前テレビで見て来てみたかったお店。ビル一階に小さな扉と暖簾、小さく店名。急いでいたら通り過...</td>\n",
       "      <td>Tokyo</td>\n",
       "    </tr>\n",
       "  </tbody>\n",
       "</table>\n",
       "</div>"
      ],
      "text/plain": [
       "      restaurant_name        restaurant_rating  \\\n",
       "345  Ginza Chikamitsu  3.60Very good291reviews   \n",
       "346  Ginza Chikamitsu  3.60Very good291reviews   \n",
       "\n",
       "                                     individual_rating  \\\n",
       "345  4.5Food and taste-Service-Atmosphere-Cost perf...   \n",
       "346  4.5Food and taste-Service-Atmosphere-Cost perf...   \n",
       "\n",
       "                                              comments Location  \n",
       "345  The fillet was very soft and I knew it was del...    Tokyo  \n",
       "346  以前テレビで見て来てみたかったお店。ビル一階に小さな扉と暖簾、小さく店名。急いでいたら通り過...    Tokyo  "
      ]
     },
     "execution_count": 24,
     "metadata": {},
     "output_type": "execute_result"
    }
   ],
   "source": [
    "dfs[3].head(2)"
   ]
  },
  {
   "cell_type": "code",
   "execution_count": 25,
   "metadata": {},
   "outputs": [
    {
     "data": {
      "text/html": [
       "<div>\n",
       "<style scoped>\n",
       "    .dataframe tbody tr th:only-of-type {\n",
       "        vertical-align: middle;\n",
       "    }\n",
       "\n",
       "    .dataframe tbody tr th {\n",
       "        vertical-align: top;\n",
       "    }\n",
       "\n",
       "    .dataframe thead th {\n",
       "        text-align: right;\n",
       "    }\n",
       "</style>\n",
       "<table border=\"1\" class=\"dataframe\">\n",
       "  <thead>\n",
       "    <tr style=\"text-align: right;\">\n",
       "      <th></th>\n",
       "      <th>restaurant_name</th>\n",
       "      <th>restaurant_rating</th>\n",
       "      <th>individual_rating</th>\n",
       "      <th>comments</th>\n",
       "      <th>Location</th>\n",
       "    </tr>\n",
       "  </thead>\n",
       "  <tbody>\n",
       "    <tr>\n",
       "      <th>460</th>\n",
       "      <td>Ushiwakamaru Shibuya Ten</td>\n",
       "      <td>3.1467reviews</td>\n",
       "      <td>1.0Food and taste1.0Service1.0Atmosphere2.8Cos...</td>\n",
       "      <td>Even with scissors, I couldn't cut off the gre...</td>\n",
       "      <td>Tokyo</td>\n",
       "    </tr>\n",
       "    <tr>\n",
       "      <th>461</th>\n",
       "      <td>Ushiwakamaru Shibuya Ten</td>\n",
       "      <td>3.1467reviews</td>\n",
       "      <td>3.5Food and taste3.5Service3.5Atmosphere3.5Cos...</td>\n",
       "      <td>・国産牛豪華5点盛り(並牛タン、国産カルビ、中落カルビ、国産上カルビ、カイノミ)¥4,323...</td>\n",
       "      <td>Tokyo</td>\n",
       "    </tr>\n",
       "  </tbody>\n",
       "</table>\n",
       "</div>"
      ],
      "text/plain": [
       "              restaurant_name restaurant_rating  \\\n",
       "460  Ushiwakamaru Shibuya Ten     3.1467reviews   \n",
       "461  Ushiwakamaru Shibuya Ten     3.1467reviews   \n",
       "\n",
       "                                     individual_rating  \\\n",
       "460  1.0Food and taste1.0Service1.0Atmosphere2.8Cos...   \n",
       "461  3.5Food and taste3.5Service3.5Atmosphere3.5Cos...   \n",
       "\n",
       "                                              comments Location  \n",
       "460  Even with scissors, I couldn't cut off the gre...    Tokyo  \n",
       "461  ・国産牛豪華5点盛り(並牛タン、国産カルビ、中落カルビ、国産上カルビ、カイノミ)¥4,323...    Tokyo  "
      ]
     },
     "execution_count": 25,
     "metadata": {},
     "output_type": "execute_result"
    }
   ],
   "source": [
    "dfs[4].head(2)"
   ]
  },
  {
   "cell_type": "code",
   "execution_count": 28,
   "metadata": {},
   "outputs": [
    {
     "name": "stdout",
     "output_type": "stream",
     "text": [
      "Saved output_kaggleXnotebook/to create separate dataframes/reviews_df_1.csv\n",
      "Saved output_kaggleXnotebook/to create separate dataframes/reviews_df_2.csv\n",
      "Saved output_kaggleXnotebook/to create separate dataframes/reviews_df_3.csv\n",
      "Saved output_kaggleXnotebook/to create separate dataframes/reviews_df_4.csv\n",
      "Saved output_kaggleXnotebook/to create separate dataframes/reviews_df_5.csv\n"
     ]
    }
   ],
   "source": [
    "#\n",
    "\n",
    "# Create the output directory if it doesn't exist\n",
    "output_dir = \"output_kaggleXnotebook/to create separate dataframes\"\n",
    "\n",
    "# Save each DataFrame to a CSV file in the specified directory\n",
    "for index, smaller_df in enumerate(dfs):\n",
    "    filename = f'{output_dir}/reviews_df_{index + 1}.csv'  # Create a filename with the output directory\n",
    "    smaller_df.to_csv(filename, index=False)  # Save to CSV without row index\n",
    "    print(f\"Saved {filename}\")"
   ]
  },
  {
   "cell_type": "code",
   "execution_count": null,
   "metadata": {},
   "outputs": [],
   "source": [
    "\"output_kaggleXnotebook/to create separate dataframes\""
   ]
  },
  {
   "cell_type": "code",
   "execution_count": null,
   "metadata": {},
   "outputs": [],
   "source": []
  },
  {
   "cell_type": "code",
   "execution_count": null,
   "metadata": {},
   "outputs": [],
   "source": []
  },
  {
   "cell_type": "code",
   "execution_count": null,
   "metadata": {},
   "outputs": [],
   "source": []
  },
  {
   "cell_type": "code",
   "execution_count": null,
   "metadata": {},
   "outputs": [],
   "source": []
  }
 ],
 "metadata": {
  "kernelspec": {
   "display_name": "KaggleXEnv",
   "language": "python",
   "name": "python3"
  },
  "language_info": {
   "codemirror_mode": {
    "name": "ipython",
    "version": 3
   },
   "file_extension": ".py",
   "mimetype": "text/x-python",
   "name": "python",
   "nbconvert_exporter": "python",
   "pygments_lexer": "ipython3",
   "version": "3.9.19"
  }
 },
 "nbformat": 4,
 "nbformat_minor": 2
}
